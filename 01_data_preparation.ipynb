{
 "cells": [
  {
   "cell_type": "markdown",
   "metadata": {},
   "source": [
    "# BCI-I & IDUN Challenge\n",
    "## Datset Preparation\n",
    "\n",
    "This dataset is provided by the BCI-I & IDUN Challenge.\n",
    "It contains the code used to process the raw data in preparation for the challenge. Participants wishing to use the pre-processed data provided do not need to look at or run this code.\n",
    "This code is intended as an example for participants that wish to apply pre-processing steps to the raw data prior to separating the data into \"trials\". \n",
    "\n",
    "The dataset includes 1ch EEG recordings from 4 subjects (3 in the training set and 1 in the test set). Sleep-related events were hand-labelled by an expert. \n",
    "In this notebook we will:\n",
    "- Load the raw data\n",
    "- Pre-process the data\n",
    "- Cut \"epochs\" around each sleep-related event\n",
    "- Save the pre-processed data to file for later use\n",
    "\n"
   ]
  },
  {
   "cell_type": "markdown",
   "metadata": {},
   "source": [
    "### Imports"
   ]
  },
  {
   "cell_type": "code",
   "execution_count": 75,
   "metadata": {},
   "outputs": [],
   "source": [
    "\n",
    "from utils import markers, load_eeg, load_labels, get_event_epochs\n",
    "from pathlib import Path\n",
    "import numpy as np\n"
   ]
  },
  {
   "cell_type": "code",
   "execution_count": 76,
   "metadata": {},
   "outputs": [],
   "source": [
    "SUBJECT = \"S004\"  # [S001-3 are in the training set, S004 is in the test set]\n",
    "data_dir = Path(r'F:\\Dropbox (Personal)\\BCII\\BCI Challenges\\202411_IDUN_kaggle_challenge\\HACKATHON_Dec2023')\n",
    "\n",
    "raw_data_dir = data_dir / 'data'\n",
    "processed_data_dir = data_dir / 'processed'\n"
   ]
  },
  {
   "cell_type": "markdown",
   "metadata": {},
   "source": [
    "### Load the raw data"
   ]
  },
  {
   "cell_type": "code",
   "execution_count": 77,
   "metadata": {},
   "outputs": [
    {
     "name": "stdout",
     "output_type": "stream",
     "text": [
      "Creating RawArray with float64 data, n_channels=1, n_times=3600148\n",
      "    Range : 0 ... 3600147 =      0.000 ... 14400.588 secs\n",
      "Ready.\n",
      "<Info | 7 non-empty values\n",
      " bads: []\n",
      " ch_names: EEG1\n",
      " chs: 1 EEG\n",
      " custom_ref_applied: False\n",
      " highpass: 0.0 Hz\n",
      " lowpass: 125.0 Hz\n",
      " meas_date: unspecified\n",
      " nchan: 1\n",
      " projs: []\n",
      " sfreq: 250.0 Hz\n",
      ">\n"
     ]
    }
   ],
   "source": [
    "eeg = load_eeg(raw_data_dir, SUBJECT)"
   ]
  },
  {
   "cell_type": "code",
   "execution_count": 78,
   "metadata": {},
   "outputs": [],
   "source": [
    "## ANY PREPROCESSING STEPS APPLIED TO EEG SHOUD HAPPEN HERE"
   ]
  },
  {
   "cell_type": "code",
   "execution_count": 79,
   "metadata": {},
   "outputs": [
    {
     "data": {
      "text/html": [
       "<div>\n",
       "<style scoped>\n",
       "    .dataframe tbody tr th:only-of-type {\n",
       "        vertical-align: middle;\n",
       "    }\n",
       "\n",
       "    .dataframe tbody tr th {\n",
       "        vertical-align: top;\n",
       "    }\n",
       "\n",
       "    .dataframe thead th {\n",
       "        text-align: right;\n",
       "    }\n",
       "</style>\n",
       "<table border=\"1\" class=\"dataframe\">\n",
       "  <thead>\n",
       "    <tr style=\"text-align: right;\">\n",
       "      <th></th>\n",
       "      <th>Marker</th>\n",
       "      <th>Timestamp_samples</th>\n",
       "      <th>Epoch</th>\n",
       "    </tr>\n",
       "  </thead>\n",
       "  <tbody>\n",
       "    <tr>\n",
       "      <th>0</th>\n",
       "      <td>REM</td>\n",
       "      <td>10483</td>\n",
       "      <td>2</td>\n",
       "    </tr>\n",
       "    <tr>\n",
       "      <th>1</th>\n",
       "      <td>REM</td>\n",
       "      <td>11543</td>\n",
       "      <td>2</td>\n",
       "    </tr>\n",
       "    <tr>\n",
       "      <th>2</th>\n",
       "      <td>REM</td>\n",
       "      <td>12792</td>\n",
       "      <td>2</td>\n",
       "    </tr>\n",
       "    <tr>\n",
       "      <th>3</th>\n",
       "      <td>REM</td>\n",
       "      <td>14027</td>\n",
       "      <td>2</td>\n",
       "    </tr>\n",
       "    <tr>\n",
       "      <th>4</th>\n",
       "      <td>REM</td>\n",
       "      <td>15239</td>\n",
       "      <td>3</td>\n",
       "    </tr>\n",
       "  </tbody>\n",
       "</table>\n",
       "</div>"
      ],
      "text/plain": [
       "  Marker  Timestamp_samples  Epoch\n",
       "0    REM              10483      2\n",
       "1    REM              11543      2\n",
       "2    REM              12792      2\n",
       "3    REM              14027      2\n",
       "4    REM              15239      3"
      ]
     },
     "execution_count": 79,
     "metadata": {},
     "output_type": "execute_result"
    }
   ],
   "source": [
    "labels = load_labels(raw_data_dir, SUBJECT)\n",
    "\n",
    "labels.head()"
   ]
  },
  {
   "cell_type": "markdown",
   "metadata": {},
   "source": [
    "### Create epochs around each event\n"
   ]
  },
  {
   "cell_type": "code",
   "execution_count": 80,
   "metadata": {},
   "outputs": [
    {
     "name": "stdout",
     "output_type": "stream",
     "text": [
      "Not setting metadata\n",
      "183 matching events found\n",
      "No baseline correction applied\n",
      "0 projection items activated\n",
      "Using data from preloaded Raw for 183 events and 7501 original time points ...\n",
      "0 bad epochs dropped\n",
      "Not setting metadata\n",
      "197 matching events found\n",
      "No baseline correction applied\n",
      "0 projection items activated\n",
      "Using data from preloaded Raw for 197 events and 7501 original time points ...\n",
      "0 bad epochs dropped\n",
      "Not setting metadata\n",
      "56 matching events found\n",
      "No baseline correction applied\n",
      "0 projection items activated\n",
      "Using data from preloaded Raw for 56 events and 7501 original time points ...\n",
      "0 bad epochs dropped\n",
      "Not setting metadata\n",
      "5 matching events found\n",
      "No baseline correction applied\n",
      "0 projection items activated\n",
      "Using data from preloaded Raw for 5 events and 7501 original time points ...\n",
      "0 bad epochs dropped\n",
      "Not setting metadata\n",
      "4 matching events found\n",
      "No baseline correction applied\n",
      "0 projection items activated\n",
      "Using data from preloaded Raw for 4 events and 7501 original time points ...\n",
      "0 bad epochs dropped\n",
      "Not setting metadata\n",
      "2 matching events found\n",
      "No baseline correction applied\n",
      "0 projection items activated\n",
      "Using data from preloaded Raw for 2 events and 7501 original time points ...\n",
      "0 bad epochs dropped\n",
      "Not setting metadata\n",
      "1 matching events found\n",
      "No baseline correction applied\n",
      "0 projection items activated\n",
      "Using data from preloaded Raw for 1 events and 7501 original time points ...\n",
      "0 bad epochs dropped\n"
     ]
    },
    {
     "name": "stderr",
     "output_type": "stream",
     "text": [
      "c:\\Users\\feder\\Documents\\github\\BCII-IDUN-CHallenge\\utils.py:65: RuntimeWarning: The events passed to the Epochs constructor are not chronologically ordered.\n",
      "  \n",
      "c:\\Users\\feder\\Documents\\github\\BCII-IDUN-CHallenge\\utils.py:65: RuntimeWarning: The events passed to the Epochs constructor are not chronologically ordered.\n",
      "  \n",
      "c:\\Users\\feder\\Documents\\github\\BCII-IDUN-CHallenge\\utils.py:65: RuntimeWarning: The events passed to the Epochs constructor are not chronologically ordered.\n",
      "  \n"
     ]
    }
   ],
   "source": [
    "epoch_eeg_data = []\n",
    "epoch_labels = []\n",
    "\n",
    "for marker in markers:\n",
    "    epochs = get_event_epochs(eeg, labels, marker)\n",
    "    if epochs is None:\n",
    "        print(f\"!!! --- No epochs found for marker {marker}\")\n",
    "        continue\n",
    "\n",
    "    _data = epochs.get_data()[:, 0, :]\n",
    "    epoch_eeg_data.append(_data)\n",
    "    epoch_labels.append(np.full(len(_data), marker))\n",
    "\n",
    "assert len(epoch_eeg_data) == len(epoch_labels)\n"
   ]
  },
  {
   "cell_type": "code",
   "execution_count": 81,
   "metadata": {},
   "outputs": [
    {
     "name": "stdout",
     "output_type": "stream",
     "text": [
      "(448, 7501) (448,)\n"
     ]
    }
   ],
   "source": [
    "X = np.concatenate(epoch_eeg_data, axis=0)\n",
    "y = np.concatenate(epoch_labels, axis=0)\n",
    "\n",
    "print(X.shape, y.shape)\n",
    "\n",
    "np.save(processed_data_dir / f\"{SUBJECT}_X.npy\", X)\n",
    "np.save(processed_data_dir / f\"{SUBJECT}_y.npy\", y)\n",
    "\n"
   ]
  }
 ],
 "metadata": {
  "kernelspec": {
   "display_name": "omen",
   "language": "python",
   "name": "python3"
  },
  "language_info": {
   "codemirror_mode": {
    "name": "ipython",
    "version": 3
   },
   "file_extension": ".py",
   "mimetype": "text/x-python",
   "name": "python",
   "nbconvert_exporter": "python",
   "pygments_lexer": "ipython3",
   "version": "3.10.13"
  }
 },
 "nbformat": 4,
 "nbformat_minor": 2
}
