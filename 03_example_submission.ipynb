{
 "cells": [
  {
   "cell_type": "markdown",
   "metadata": {},
   "source": [
    "# BCI-I & IDUN Challenge Example Submission\n",
    "\n",
    "This script shows how to load the competition data and train a simple model before preparing a submission file.\n",
    "\n",
    "Note that here we use data that has been prepared with `epochs` for each sleep event. Check `01_data_preparation.ipynb` for more details on how the data was prepared and `02_tutorial.ipynb` for how to fit and evaluate your own models.\n",
    "\n",
    "You need to format your submission file as a `.csv` file **exactly** as shown in this example. If you decide to apply your own preprocessing steps, make sure to save the data in the same format as the original data. In particular, the number and order of epochs must match the data we've provided exactly (which should be the case if you followed the instructions in `01_data_preparation.ipynb`).\n",
    "The `.csv` file must have two columns: `ID` and `Marker`. `ID` is the ID of the trial (integer, starting from 0) and `Marker` is the predicted label (the string with the marker name).\n"
   ]
  },
  {
   "cell_type": "code",
   "execution_count": 10,
   "metadata": {},
   "outputs": [],
   "source": [
    "import numpy as np\n",
    "from pathlib import Path\n",
    "import pandas as pd\n"
   ]
  },
  {
   "cell_type": "markdown",
   "metadata": {},
   "source": [
    "### Load all data\n",
    "See `Tutorial.ipynb` for more details on how to load and use the data. Here we train a SVM classifier on all training data and evaluate it on the test data."
   ]
  },
  {
   "cell_type": "code",
   "execution_count": 11,
   "metadata": {},
   "outputs": [
    {
     "name": "stdout",
     "output_type": "stream",
     "text": [
      "(2542, 7501) (2542,) (448, 7501)\n"
     ]
    }
   ],
   "source": [
    "data_dir = Path(r'')\n",
    "\n",
    "train_subjects = [\"S001\", \"S002\", \"S003\"]\n",
    "test_subjects = [\"S004\",]\n",
    "\n",
    "\n",
    "Xs = [np.load(data_dir / f\"{subject}_X.npy\") for subject in train_subjects]\n",
    "Ys = [np.load(data_dir / f\"{subject}_Y.npy\") for subject in train_subjects]\n",
    "\n",
    "X_test = np.load(data_dir / f\"{test_subjects[0]}_X.npy\")\n",
    "# there's no labels for the test set\n",
    "\n",
    "\n",
    "X_train = np.concatenate(Xs)\n",
    "Y_train = np.concatenate(Ys)\n",
    "\n",
    "print(X_train.shape, Y_train.shape, X_test.shape)\n"
   ]
  },
  {
   "cell_type": "markdown",
   "metadata": {},
   "source": [
    "## Fit a model\n",
    "We fit a simple SVM model with a radial basis function kernel to all training data.\n",
    "See `02_tutorial.ipynb` for more details on how to fit and evaluate your own models."
   ]
  },
  {
   "cell_type": "code",
   "execution_count": 12,
   "metadata": {},
   "outputs": [
    {
     "name": "stdout",
     "output_type": "stream",
     "text": [
      "Train F1 score: 0.2302\n"
     ]
    }
   ],
   "source": [
    "from sklearn.svm import SVC\n",
    "from sklearn.metrics import f1_score\n",
    "\n",
    "\n",
    "clf = SVC(kernel='rbf', random_state=42, class_weight=\"balanced\")  # class_weight None or \"balanced\"\n",
    "clf.fit(X_train, Y_train)\n",
    "\n",
    "train_f1 = f1_score(Y_train, clf.predict(X_train), average='weighted')\n",
    "print(f\"Train F1 score: {train_f1:.4f}\")\n",
    "\n",
    "\n"
   ]
  },
  {
   "cell_type": "markdown",
   "metadata": {},
   "source": [
    "## Prepare a submission file\n",
    "We predict the labels for the test set and prepare a submission `.csv` file.\n",
    "The file must have two columns: `ID` and `Marker`. \n",
    "`ID` is the ID of the trial (integer, starting from 0) and `Marker` is the predicted label (the string with the marker name).\n"
   ]
  },
  {
   "cell_type": "code",
   "execution_count": 14,
   "metadata": {},
   "outputs": [
    {
     "name": "stdout",
     "output_type": "stream",
     "text": [
      "['S' 'S' 'S' 'S' 'S']\n"
     ]
    }
   ],
   "source": [
    "Y_test_pred = clf.predict(X_test)\n",
    "print(Y_test_pred[:5])"
   ]
  },
  {
   "cell_type": "markdown",
   "metadata": {},
   "source": [
    "We organize the data in a `DataFrame` and save it to `.csv`. After this, you simply need to upload the csv file to Kaggle and see how well you did!"
   ]
  },
  {
   "cell_type": "code",
   "execution_count": 15,
   "metadata": {},
   "outputs": [],
   "source": [
    "IDs = np.arange(len(Y_test_pred))\n",
    "\n",
    "df = pd.DataFrame({\"ID\":IDs, \"Marker\": Y_test_pred})\n",
    "df.head()\n",
    "df.to_csv(\"example_submission.csv\", index=False)\n",
    "\n"
   ]
  }
 ],
 "metadata": {
  "kernelspec": {
   "display_name": "omen",
   "language": "python",
   "name": "python3"
  },
  "language_info": {
   "codemirror_mode": {
    "name": "ipython",
    "version": 3
   },
   "file_extension": ".py",
   "mimetype": "text/x-python",
   "name": "python",
   "nbconvert_exporter": "python",
   "pygments_lexer": "ipython3",
   "version": "3.10.13"
  }
 },
 "nbformat": 4,
 "nbformat_minor": 2
}
